{
 "cells": [
  {
   "cell_type": "markdown",
   "id": "db3c1946c8dce761",
   "metadata": {
    "collapsed": false
   },
   "source": [
    "# Information Retrieval Project\n",
    "## COVID-19 Search Engine (P12)\n",
    "\n",
    "Content-based image retrieval (CBIR) is a computer vision technique which addresses the problem of searching for digital images in large databases. A content-based approach exploits the contents of an image, such as colors, shapes and textures, differing from its concept-based counterpart, which instead focuses on keywords and tags associated with the image itself.\n",
    "\n",
    "Image retrieval has gained more and more relevance in the medical field, due to the accumulation of extensive collections of scans in hospitals. These images are stored in DICOM format, which must be manually annotated and may require considerable time to process by physicians. The goal of this project is trying to address this problem by considering different approaches for building a content-based medical image retrieval system and comparing their results based on classification metrics and computational time."
   ]
  },
  {
   "cell_type": "markdown",
   "id": "83f7612f7663945",
   "metadata": {
    "collapsed": false
   },
   "source": [
    "# Installation of Requirements\n",
    "\n",
    "This part of the code installs necessary dependencies specified in the `requirements.txt` file.\n",
    "Utilizes the `!pip install -r requirements.txt` command to install packages listed in the `requirements.txt` file. This ensures that all required dependencies are installed before proceeding with execution.\n"
   ]
  },
  {
   "cell_type": "code",
   "execution_count": 154,
   "id": "eb03e351d14986a2",
   "metadata": {
    "collapsed": false,
    "ExecuteTime": {
     "end_time": "2024-03-25T11:28:03.700104Z",
     "start_time": "2024-03-25T11:28:02.455393Z"
    }
   },
   "outputs": [
    {
     "name": "stdout",
     "output_type": "stream",
     "text": [
      "Requirement already satisfied: kaggle~=1.6.6 in /Library/Frameworks/Python.framework/Versions/3.10/lib/python3.10/site-packages (from -r requirements.txt (line 1)) (1.6.6)\r\n",
      "Requirement already satisfied: ImageHash~=4.3.1 in /Library/Frameworks/Python.framework/Versions/3.10/lib/python3.10/site-packages (from -r requirements.txt (line 2)) (4.3.1)\r\n",
      "Requirement already satisfied: Pillow~=10.2.0 in /Library/Frameworks/Python.framework/Versions/3.10/lib/python3.10/site-packages (from -r requirements.txt (line 3)) (10.2.0)\r\n",
      "Requirement already satisfied: matplotlib~=3.8.3 in /Library/Frameworks/Python.framework/Versions/3.10/lib/python3.10/site-packages (from -r requirements.txt (line 4)) (3.8.3)\r\n",
      "Requirement already satisfied: pandas~=2.1.1 in /Library/Frameworks/Python.framework/Versions/3.10/lib/python3.10/site-packages (from -r requirements.txt (line 5)) (2.1.1)\r\n",
      "Requirement already satisfied: numpy~=1.26.4 in /Library/Frameworks/Python.framework/Versions/3.10/lib/python3.10/site-packages (from -r requirements.txt (line 6)) (1.26.4)\r\n",
      "Requirement already satisfied: keras~=3.1.1 in /Library/Frameworks/Python.framework/Versions/3.10/lib/python3.10/site-packages (from -r requirements.txt (line 7)) (3.1.1)\r\n",
      "Requirement already satisfied: tensorflow~=2.16.1 in /Library/Frameworks/Python.framework/Versions/3.10/lib/python3.10/site-packages (from -r requirements.txt (line 8)) (2.16.1)\r\n",
      "Requirement already satisfied: six>=1.10 in /Users/matteo/Library/Python/3.10/lib/python/site-packages (from kaggle~=1.6.6->-r requirements.txt (line 1)) (1.16.0)\r\n",
      "Requirement already satisfied: certifi in /Library/Frameworks/Python.framework/Versions/3.10/lib/python3.10/site-packages (from kaggle~=1.6.6->-r requirements.txt (line 1)) (2023.7.22)\r\n",
      "Requirement already satisfied: python-dateutil in /Users/matteo/Library/Python/3.10/lib/python/site-packages (from kaggle~=1.6.6->-r requirements.txt (line 1)) (2.8.2)\r\n",
      "Requirement already satisfied: requests in /Library/Frameworks/Python.framework/Versions/3.10/lib/python3.10/site-packages (from kaggle~=1.6.6->-r requirements.txt (line 1)) (2.31.0)\r\n",
      "Requirement already satisfied: tqdm in /Library/Frameworks/Python.framework/Versions/3.10/lib/python3.10/site-packages (from kaggle~=1.6.6->-r requirements.txt (line 1)) (4.66.1)\r\n",
      "Requirement already satisfied: python-slugify in /Library/Frameworks/Python.framework/Versions/3.10/lib/python3.10/site-packages (from kaggle~=1.6.6->-r requirements.txt (line 1)) (8.0.3)\r\n",
      "Requirement already satisfied: urllib3 in /Library/Frameworks/Python.framework/Versions/3.10/lib/python3.10/site-packages (from kaggle~=1.6.6->-r requirements.txt (line 1)) (1.26.12)\r\n",
      "Requirement already satisfied: bleach in /Library/Frameworks/Python.framework/Versions/3.10/lib/python3.10/site-packages (from kaggle~=1.6.6->-r requirements.txt (line 1)) (6.1.0)\r\n",
      "Requirement already satisfied: PyWavelets in /Library/Frameworks/Python.framework/Versions/3.10/lib/python3.10/site-packages (from ImageHash~=4.3.1->-r requirements.txt (line 2)) (1.4.1)\r\n",
      "Requirement already satisfied: scipy in /Library/Frameworks/Python.framework/Versions/3.10/lib/python3.10/site-packages (from ImageHash~=4.3.1->-r requirements.txt (line 2)) (1.11.3)\r\n",
      "Requirement already satisfied: contourpy>=1.0.1 in /Library/Frameworks/Python.framework/Versions/3.10/lib/python3.10/site-packages (from matplotlib~=3.8.3->-r requirements.txt (line 4)) (1.2.0)\r\n",
      "Requirement already satisfied: cycler>=0.10 in /Library/Frameworks/Python.framework/Versions/3.10/lib/python3.10/site-packages (from matplotlib~=3.8.3->-r requirements.txt (line 4)) (0.12.1)\r\n",
      "Requirement already satisfied: fonttools>=4.22.0 in /Library/Frameworks/Python.framework/Versions/3.10/lib/python3.10/site-packages (from matplotlib~=3.8.3->-r requirements.txt (line 4)) (4.48.1)\r\n",
      "Requirement already satisfied: kiwisolver>=1.3.1 in /Library/Frameworks/Python.framework/Versions/3.10/lib/python3.10/site-packages (from matplotlib~=3.8.3->-r requirements.txt (line 4)) (1.4.5)\r\n",
      "Requirement already satisfied: packaging>=20.0 in /Users/matteo/Library/Python/3.10/lib/python/site-packages (from matplotlib~=3.8.3->-r requirements.txt (line 4)) (23.2)\r\n",
      "Requirement already satisfied: pyparsing>=2.3.1 in /Library/Frameworks/Python.framework/Versions/3.10/lib/python3.10/site-packages (from matplotlib~=3.8.3->-r requirements.txt (line 4)) (3.1.1)\r\n",
      "Requirement already satisfied: pytz>=2020.1 in /Library/Frameworks/Python.framework/Versions/3.10/lib/python3.10/site-packages (from pandas~=2.1.1->-r requirements.txt (line 5)) (2023.3.post1)\r\n",
      "Requirement already satisfied: tzdata>=2022.1 in /Library/Frameworks/Python.framework/Versions/3.10/lib/python3.10/site-packages (from pandas~=2.1.1->-r requirements.txt (line 5)) (2023.3)\r\n",
      "Requirement already satisfied: absl-py in /Library/Frameworks/Python.framework/Versions/3.10/lib/python3.10/site-packages (from keras~=3.1.1->-r requirements.txt (line 7)) (2.1.0)\r\n",
      "Requirement already satisfied: rich in /Library/Frameworks/Python.framework/Versions/3.10/lib/python3.10/site-packages (from keras~=3.1.1->-r requirements.txt (line 7)) (13.7.1)\r\n",
      "Requirement already satisfied: namex in /Library/Frameworks/Python.framework/Versions/3.10/lib/python3.10/site-packages (from keras~=3.1.1->-r requirements.txt (line 7)) (0.0.7)\r\n",
      "Requirement already satisfied: h5py in /Library/Frameworks/Python.framework/Versions/3.10/lib/python3.10/site-packages (from keras~=3.1.1->-r requirements.txt (line 7)) (3.10.0)\r\n",
      "Requirement already satisfied: optree in /Library/Frameworks/Python.framework/Versions/3.10/lib/python3.10/site-packages (from keras~=3.1.1->-r requirements.txt (line 7)) (0.10.0)\r\n",
      "Requirement already satisfied: ml-dtypes in /Library/Frameworks/Python.framework/Versions/3.10/lib/python3.10/site-packages (from keras~=3.1.1->-r requirements.txt (line 7)) (0.3.2)\r\n",
      "Requirement already satisfied: astunparse>=1.6.0 in /Library/Frameworks/Python.framework/Versions/3.10/lib/python3.10/site-packages (from tensorflow~=2.16.1->-r requirements.txt (line 8)) (1.6.3)\r\n",
      "Requirement already satisfied: flatbuffers>=23.5.26 in /Library/Frameworks/Python.framework/Versions/3.10/lib/python3.10/site-packages (from tensorflow~=2.16.1->-r requirements.txt (line 8)) (23.5.26)\r\n",
      "Requirement already satisfied: gast!=0.5.0,!=0.5.1,!=0.5.2,>=0.2.1 in /Library/Frameworks/Python.framework/Versions/3.10/lib/python3.10/site-packages (from tensorflow~=2.16.1->-r requirements.txt (line 8)) (0.5.4)\r\n",
      "Requirement already satisfied: google-pasta>=0.1.1 in /Library/Frameworks/Python.framework/Versions/3.10/lib/python3.10/site-packages (from tensorflow~=2.16.1->-r requirements.txt (line 8)) (0.2.0)\r\n",
      "Requirement already satisfied: libclang>=13.0.0 in /Library/Frameworks/Python.framework/Versions/3.10/lib/python3.10/site-packages (from tensorflow~=2.16.1->-r requirements.txt (line 8)) (16.0.6)\r\n",
      "Requirement already satisfied: opt-einsum>=2.3.2 in /Library/Frameworks/Python.framework/Versions/3.10/lib/python3.10/site-packages (from tensorflow~=2.16.1->-r requirements.txt (line 8)) (3.3.0)\r\n",
      "Requirement already satisfied: protobuf!=4.21.0,!=4.21.1,!=4.21.2,!=4.21.3,!=4.21.4,!=4.21.5,<5.0.0dev,>=3.20.3 in /Library/Frameworks/Python.framework/Versions/3.10/lib/python3.10/site-packages (from tensorflow~=2.16.1->-r requirements.txt (line 8)) (4.23.4)\r\n",
      "Requirement already satisfied: setuptools in /Library/Frameworks/Python.framework/Versions/3.10/lib/python3.10/site-packages (from tensorflow~=2.16.1->-r requirements.txt (line 8)) (58.1.0)\r\n",
      "Requirement already satisfied: termcolor>=1.1.0 in /Library/Frameworks/Python.framework/Versions/3.10/lib/python3.10/site-packages (from tensorflow~=2.16.1->-r requirements.txt (line 8)) (2.4.0)\r\n",
      "Requirement already satisfied: typing-extensions>=3.6.6 in /Library/Frameworks/Python.framework/Versions/3.10/lib/python3.10/site-packages (from tensorflow~=2.16.1->-r requirements.txt (line 8)) (4.8.0)\r\n",
      "Requirement already satisfied: wrapt>=1.11.0 in /Library/Frameworks/Python.framework/Versions/3.10/lib/python3.10/site-packages (from tensorflow~=2.16.1->-r requirements.txt (line 8)) (1.14.1)\r\n",
      "Requirement already satisfied: grpcio<2.0,>=1.24.3 in /Library/Frameworks/Python.framework/Versions/3.10/lib/python3.10/site-packages (from tensorflow~=2.16.1->-r requirements.txt (line 8)) (1.60.1)\r\n",
      "Requirement already satisfied: tensorboard<2.17,>=2.16 in /Library/Frameworks/Python.framework/Versions/3.10/lib/python3.10/site-packages (from tensorflow~=2.16.1->-r requirements.txt (line 8)) (2.16.2)\r\n",
      "Requirement already satisfied: tensorflow-io-gcs-filesystem>=0.23.1 in /Library/Frameworks/Python.framework/Versions/3.10/lib/python3.10/site-packages (from tensorflow~=2.16.1->-r requirements.txt (line 8)) (0.36.0)\r\n",
      "Requirement already satisfied: wheel<1.0,>=0.23.0 in /Library/Frameworks/Python.framework/Versions/3.10/lib/python3.10/site-packages (from astunparse>=1.6.0->tensorflow~=2.16.1->-r requirements.txt (line 8)) (0.42.0)\r\n",
      "Requirement already satisfied: charset-normalizer<4,>=2 in /Library/Frameworks/Python.framework/Versions/3.10/lib/python3.10/site-packages (from requests->kaggle~=1.6.6->-r requirements.txt (line 1)) (2.1.1)\r\n",
      "Requirement already satisfied: idna<4,>=2.5 in /Library/Frameworks/Python.framework/Versions/3.10/lib/python3.10/site-packages (from requests->kaggle~=1.6.6->-r requirements.txt (line 1)) (3.4)\r\n",
      "Requirement already satisfied: markdown>=2.6.8 in /Library/Frameworks/Python.framework/Versions/3.10/lib/python3.10/site-packages (from tensorboard<2.17,>=2.16->tensorflow~=2.16.1->-r requirements.txt (line 8)) (3.5.2)\r\n",
      "Requirement already satisfied: tensorboard-data-server<0.8.0,>=0.7.0 in /Library/Frameworks/Python.framework/Versions/3.10/lib/python3.10/site-packages (from tensorboard<2.17,>=2.16->tensorflow~=2.16.1->-r requirements.txt (line 8)) (0.7.2)\r\n",
      "Requirement already satisfied: werkzeug>=1.0.1 in /Library/Frameworks/Python.framework/Versions/3.10/lib/python3.10/site-packages (from tensorboard<2.17,>=2.16->tensorflow~=2.16.1->-r requirements.txt (line 8)) (3.0.1)\r\n",
      "Requirement already satisfied: webencodings in /Library/Frameworks/Python.framework/Versions/3.10/lib/python3.10/site-packages (from bleach->kaggle~=1.6.6->-r requirements.txt (line 1)) (0.5.1)\r\n",
      "Requirement already satisfied: text-unidecode>=1.3 in /Library/Frameworks/Python.framework/Versions/3.10/lib/python3.10/site-packages (from python-slugify->kaggle~=1.6.6->-r requirements.txt (line 1)) (1.3)\r\n",
      "Requirement already satisfied: markdown-it-py>=2.2.0 in /Library/Frameworks/Python.framework/Versions/3.10/lib/python3.10/site-packages (from rich->keras~=3.1.1->-r requirements.txt (line 7)) (3.0.0)\r\n",
      "Requirement already satisfied: pygments<3.0.0,>=2.13.0 in /Users/matteo/Library/Python/3.10/lib/python/site-packages (from rich->keras~=3.1.1->-r requirements.txt (line 7)) (2.16.1)\r\n",
      "Requirement already satisfied: mdurl~=0.1 in /Library/Frameworks/Python.framework/Versions/3.10/lib/python3.10/site-packages (from markdown-it-py>=2.2.0->rich->keras~=3.1.1->-r requirements.txt (line 7)) (0.1.2)\r\n",
      "Requirement already satisfied: MarkupSafe>=2.1.1 in /Library/Frameworks/Python.framework/Versions/3.10/lib/python3.10/site-packages (from werkzeug>=1.0.1->tensorboard<2.17,>=2.16->tensorflow~=2.16.1->-r requirements.txt (line 8)) (2.1.3)\r\n"
     ]
    }
   ],
   "source": [
    "!pip install -r requirements.txt"
   ]
  },
  {
   "cell_type": "markdown",
   "id": "67677eb828dc5627",
   "metadata": {
    "collapsed": false
   },
   "source": [
    "# Importing Required Libraries and Modules Summary\n",
    "\n",
    "This part of the code imports necessary libraries and modules for further execution, providing functionalities for dataset management, visualization, and image processing.\n",
    "\n",
    "## Imported Libraries and Modules\n",
    "- `os`: A standard library for interacting with the operating system.\n",
    "- `kaggle`: A library for accessing the Kaggle API to download datasets.\n",
    "- `platform`: A standard library for accessing platform-specific information.\n",
    "- `imagehash`: A library for computing perceptual image hashes, useful for identifying duplicate images.\n",
    "- `matplotlib.pyplot`: A module from the Matplotlib library used for visualizing images and plotting graphs.\n",
    "- `PIL.Image`: A module from the Python Imaging Library (PIL) used for opening, manipulating, and saving many different image file formats.\n",
    "- `UnidentifiedImageError`: An exception raised when an image file cannot be identified or opened by PIL."
   ]
  },
  {
   "cell_type": "code",
   "execution_count": 155,
   "id": "ef963128ebd2163f",
   "metadata": {
    "collapsed": false,
    "ExecuteTime": {
     "end_time": "2024-03-25T11:28:03.705331Z",
     "start_time": "2024-03-25T11:28:03.701482Z"
    }
   },
   "outputs": [
    {
     "name": "stdout",
     "output_type": "stream",
     "text": [
      "- Python version: 3.12.0\n",
      "- Tensorflow version: 2.16.1\n",
      "- Matplotlib version is: 3.8.3\n",
      "- Pillow version is: 10.2.0\n",
      "- NumPy version: 1.26.4\n",
      "- Pandas version is: 2.1.1\n",
      "- ImageHash version is: 4.3.1\n"
     ]
    }
   ],
   "source": [
    "# Import\n",
    "import os\n",
    "import PIL\n",
    "import kaggle\n",
    "import platform\n",
    "import imagehash\n",
    "import matplotlib\n",
    "\n",
    "import numpy as np\n",
    "import pandas as pd \n",
    "import tensorflow as tf\n",
    "\n",
    "from tensorflow import keras\n",
    "from matplotlib import pyplot as plt\n",
    "from PIL import Image, UnidentifiedImageError\n",
    "from silence_tensorflow import silence_tensorflow\n",
    "silence_tensorflow()  #  To ignore useless Warnings\n",
    "\n",
    "# Checking Python Packages version\n",
    "print(\"- Python version: {}\".format(platform.python_version()))\n",
    "print(\"- Tensorflow version: {}\".format(tf.__version__))\n",
    "print(\"- Matplotlib version is: {}\".format(matplotlib.__version__))\n",
    "print(\"- Pillow version is: {}\".format(PIL.__version__))\n",
    "print(\"- NumPy version: {}\".format(np.__version__))\n",
    "print(\"- Pandas version is: {}\".format(pd.__version__))\n",
    "print(\"- ImageHash version is: {}\".format(imagehash.__version__))"
   ]
  },
  {
   "cell_type": "markdown",
   "id": "466d12a807cbf965",
   "metadata": {
    "collapsed": false
   },
   "source": [
    "# Dataset Paths and Constants Summary\n",
    "\n",
    "This part of the code defines useful constants and paths.\n",
    "\n",
    "## 1. Defined Constants and Paths\n",
    "- `DATASET_PATH`: Specifies the path to the dataset folder named \"archives\".\n",
    "- `DATASET_ID`: Provides the unique identifier necessary for downloading the dataset using the Kaggle API.\n",
    "- `COVID_PATH`: Defines the path to the directory containing COVID images within the dataset folder.\n",
    "- `NON_COVID_PATH`: Defines the path to the directory containing non-COVID images within the dataset folder.\n",
    "- `DATA_PATH`: Defines the path to the directory containing data saved during various processes.\n",
    "- `PLOT_PATH`: Defines the path to the directory containing plot generated during various processes\n",
    "- `CLASS_LIST`: Specifies the string name of the two classes of the objects of the dataset.\n"
   ]
  },
  {
   "cell_type": "code",
   "execution_count": 156,
   "id": "1b28b3861eb5f84b",
   "metadata": {
    "collapsed": false,
    "ExecuteTime": {
     "end_time": "2024-03-25T11:28:03.708827Z",
     "start_time": "2024-03-25T11:28:03.706176Z"
    }
   },
   "outputs": [],
   "source": [
    "# ********************************************* #\n",
    "# ************** USEFUL CONSTANTS ************* #\n",
    "# ********************************************* #\n",
    "\n",
    "# PATHS AND SIMILAR\n",
    "PROJECT_ROOT = os.getcwd()  # The project root\n",
    "DATASET_PATH = \"archives\"  # Path to the dataset\n",
    "DATASET_ID = \"plameneduardo/sarscov2-ctscan-dataset\"  # ID for Kaggle API. Format: dataset_owner_name/dataset_name\n",
    "COVID_PATH = os.path.join(DATASET_PATH, \"COVID\")  # Path to data labeled as COVID\n",
    "NON_COVID_PATH = os.path.join(DATASET_PATH, \"non-COVID\")  # Path to data labeled as non-COVID\n",
    "DATA_PATH = \"data\"  # Path to the data folder \n",
    "PLOT_PATH = \"plot\"  # Path to the plot folder\n",
    "\n",
    "# DATA, KERAS AND SIMILAR\n",
    "CLASS_LIST = [\"COVID\", \"non-COVID\"]\n",
    "IMG_WIDTH = 224\n",
    "IMG_HEIGHT = 224\n",
    "IMG_SIZE = (IMG_HEIGHT, IMG_WIDTH)\n",
    "CHANNELS = 3\n",
    "BATCH_SIZE = 32\n",
    "INPUT_SHAPE = (IMG_HEIGHT, IMG_WIDTH, CHANNELS)"
   ]
  },
  {
   "cell_type": "markdown",
   "id": "6626cb791e42cf09",
   "metadata": {
    "collapsed": false
   },
   "source": [
    "# Define workspace folders\n",
    "\n",
    "This code cell defines two functions: `makedir` and `define_workspace_folders`. \n",
    "\n",
    "The `makedir` function takes a directory path as input and creates the directory if it doesn't already exist. \n",
    "\n",
    "The `define_workspace_folders` function creates a series of folders within the project workspace if they are not already present. Specifically, it creates a `data` folder to store useful data and a `plot` folder to store graphs generated during the processes.\n"
   ]
  },
  {
   "cell_type": "code",
   "execution_count": 157,
   "id": "77acbd37939fc61",
   "metadata": {
    "collapsed": false,
    "ExecuteTime": {
     "end_time": "2024-03-25T11:28:03.712136Z",
     "start_time": "2024-03-25T11:28:03.710173Z"
    }
   },
   "outputs": [],
   "source": [
    "# Create a new directory\n",
    "def makedir(dir_path):\n",
    "    \"\"\"\n",
    "    Create a directory, given a path\n",
    "\n",
    "    :param dir_path: directory location\n",
    "    \"\"\"\n",
    "    # check if dir exists\n",
    "    if not os.path.exists(dir_path):\n",
    "        os.makedirs(dir_path, exist_ok=True)\n",
    "        print(\"\\n> Directory [{}] has been created successfully!\".format(dir_path))\n",
    "\n",
    "# create data folder\n",
    "makedir(DATA_PATH)\n",
    "\n",
    "# create plot folder\n",
    "makedir(PLOT_PATH)"
   ]
  },
  {
   "cell_type": "markdown",
   "id": "4d1890303dddf97f",
   "metadata": {
    "collapsed": false
   },
   "source": [
    "# Dataset Download from Kaggle\n",
    "\n",
    "This part of the code checks if the dataset exists in the workspace and downloads it from Kaggle if it does not already exist.\n",
    "\n",
    "## 1. Checking Dataset Existence\n",
    "- The code uses the `os.path.exists()` function to check if the dataset is already present in the workspace.\n",
    "\n",
    "## 2. Downloading Dataset from Kaggle\n",
    "- If the dataset does not exist, the code proceeds to download it from Kaggle using the `kaggle.api.dataset_download_files()` function.\n",
    "- The `DATASET_ID` and `DATASET_PATH` variables specify the dataset to download and the location to save it, respectively.\n",
    "- The `unzip=True` parameter ensures that the downloaded dataset is unzipped after download.\n"
   ]
  },
  {
   "cell_type": "code",
   "execution_count": 158,
   "id": "c294b78fcbcece79",
   "metadata": {
    "collapsed": false,
    "ExecuteTime": {
     "end_time": "2024-03-25T11:28:03.715421Z",
     "start_time": "2024-03-25T11:28:03.712858Z"
    }
   },
   "outputs": [
    {
     "name": "stdout",
     "output_type": "stream",
     "text": [
      "\n",
      "> Dataset already downloaded.\n"
     ]
    }
   ],
   "source": [
    "# Download dataset from Kaggle website\n",
    "def download_dataset_from_kaggle(dataset_id, dataset_path):\n",
    "    \"\"\"\n",
    "    Download the sarscov2-ctscan-dataset using Kaggle module\n",
    "\n",
    "    :param dataset_id: identify the dataset to download.\n",
    "        Format: dataset_owner_name/dataset_name\n",
    "    :param dataset_path: location to save the dataset\n",
    "\n",
    "    :return: None\n",
    "    \"\"\"\n",
    "    # Download the dataset if not exist in the workplace\n",
    "    if not os.path.exists(DATASET_PATH):\n",
    "        \n",
    "        print(\"\\n> Download the dataset from Kaggle...\")\n",
    "        # Download dataset and unzip it\n",
    "        kaggle.api.dataset_download_files(dataset=dataset_id, path=dataset_path, quiet=False, unzip=True)\n",
    "    else:\n",
    "        print(\"\\n> Dataset already downloaded.\")\n",
    "        \n",
    "\n",
    "# Execute the download operation\n",
    "download_dataset_from_kaggle(dataset_id=DATASET_ID, dataset_path=DATASET_PATH)"
   ]
  },
  {
   "cell_type": "markdown",
   "id": "56d795380475bce7",
   "metadata": {
    "collapsed": false
   },
   "source": [
    "# Dataset Preprocessing Summary\n",
    "\n",
    "This code performs preprocessing tasks on a dataset, which includes counting files, checking for corrupted files, filtering out duplicates, and plotting duplicate images alongside their originals.\n",
    "\n",
    "## 1. Counting Files\n",
    "The `count_files` function counts the number of files with specified extensions in a specified directory. It takes the directory path and file extensions as inputs and returns the count of files.\n",
    "\n",
    "## 2. Checking for Corrupted Files\n",
    "The `corruption_filter` function checks the dataset for corrupted image files and provides an option to delete them. It iterates through all files, verifies their integrity using PIL's `Image` module, and removes corrupted files if requested.\n",
    "\n",
    "## 3. Finding and Handling Duplicates\n",
    "The `find_out_duplicate` function identifies duplicate images within the dataset. It computes the hash of each image and compares it with previous hashes to detect duplicates. If duplicates are found, it plots each pair of original and duplicate images side by side using Matplotlib. The user is prompted to decide whether to delete the duplicate images.\n",
    "\n",
    "## Usage\n",
    "1. The code begins with checking the dataset's file count before preprocessing tasks.\n",
    "2. It then checks for corrupted files and provides an option to delete them.\n",
    "3. Next, it identifies and handles duplicates within the COVID and non-COVID dataset subdirectories.\n",
    "4. Finally, it confirms the total file count after preprocessing.\n",
    "\n",
    "This code ensures the integrity and cleanliness of the dataset for further analysis or model training."
   ]
  },
  {
   "cell_type": "code",
   "execution_count": 159,
   "id": "b4094d142f206980",
   "metadata": {
    "collapsed": false,
    "ExecuteTime": {
     "end_time": "2024-03-25T11:28:03.724877Z",
     "start_time": "2024-03-25T11:28:03.716185Z"
    }
   },
   "outputs": [],
   "source": [
    "# Count the number of files\n",
    "def count_files(directory_path, extensions=\"png\"):\n",
    "    \"\"\"\n",
    "    Count the number of files with specified extensions in the specified directory.\n",
    "\n",
    "    Example: count_files(\"/path/to/directory\", extensions=[\"jpg\", \"png\"]) -> 12\n",
    "\n",
    "    :param directory_path: (str) The path to the directory for which file count is required.\n",
    "    :param extensions: (list or None) List of file extensions to count. If None, count all files.\n",
    "\n",
    "    :return: (int) The number of files with specified extensions in the specified directory.\n",
    "    \"\"\"\n",
    "    if extensions is None:\n",
    "        # If no extensions provided, consider all files\n",
    "        extensions = ['']\n",
    "    \n",
    "    # Initialize counter for files\n",
    "    counter = 0 \n",
    "    # Iterate over the directory\n",
    "    with os.scandir(directory_path) as entries:\n",
    "        for entry in entries:\n",
    "             # Check if it's a file with specified extension\n",
    "            if entry.is_file() and any(entry.name.lower().endswith(ext) for ext in extensions):\n",
    "                counter += 1\n",
    "\n",
    "    return counter\n",
    "\n",
    "\n",
    "# Just a helper function\n",
    "def print_file_counts():\n",
    "    \"\"\"\n",
    "    A helper function that pint information about the number of files inside the directory.\n",
    "    \n",
    "    :return: None\n",
    "    \"\"\"\n",
    "    count_covid = count_files(directory_path=COVID_PATH)  # Count COVID files\n",
    "    count_non_covid = count_files(directory_path=NON_COVID_PATH)  # Count non-COVID files\n",
    "    \n",
    "    # Total number of files\n",
    "    tot_number_file = count_covid + count_non_covid\n",
    "    # Print the counts\n",
    "    print(\"- Total Number of file: {}\\n\".format(tot_number_file) +\n",
    "          \"- Number of file in COVID: {}\\n\".format(count_covid) +\n",
    "          \"- Number of file in non-Covid: {}\\n\".format(count_non_covid))\n",
    "    \n",
    "\n",
    "# Check dataset: filter out possible corrupted files.\n",
    "def corruption_filter(dataset_path):\n",
    "    \"\"\"\n",
    "    Check dataset for corrupted files and delete them if requested.\n",
    "\n",
    "    :param dataset_path: The path to the dataset.\n",
    "    \n",
    "    :return: None\n",
    "    \"\"\"\n",
    "    # List to store corrupted files\n",
    "    bad_files = [] \n",
    "\n",
    "    # Loop through all dataset sub-folders\n",
    "    for dirpath, _, filenames in os.walk(dataset_path):\n",
    "        # Ensure we're processing a sub-folder level\n",
    "        if dirpath is not dataset_path:\n",
    "\n",
    "            # Loop through all files\n",
    "            for filename in filenames:\n",
    "                # Check the file extension\n",
    "                if filename.endswith(\"png\"):\n",
    "                    # Get the file path\n",
    "                    path_to_file = os.path.join(dirpath, filename)\n",
    "                    try:\n",
    "                        with Image.open(fp=path_to_file) as image:\n",
    "                            image.verify()  # Verify the integrity of the image\n",
    "                    except UnidentifiedImageError:\n",
    "                        bad_files.append(fp=path_to_file)  # If corrupted, add to bad files list\n",
    "                        # Print the corrupted files\n",
    "                        print(\"\\n> There are {} corrupted files: {}\".format(len(bad_files), bad_files))\n",
    "\n",
    "    if len(bad_files) != 0:  # If there are corrupted files -> Delete them\n",
    "        doc_message = input(\"\\n> Do you want to delete these {} file? [Y/N]: \".format(len(bad_files)))\n",
    "        if doc_message.upper() == \"Y\":\n",
    "            for bad_file in bad_files:\n",
    "                # Delete corrupted file\n",
    "                os.remove(bad_file)\n",
    "                # Print success message\n",
    "                print(\"- {} Corrupted File Deleted Successfully!\".format(bad_file))\n",
    "\n",
    "            # Update file counts after removal of corrupted files\n",
    "            print(\"\\n> Checking the Number of file after the application of the corruption filter:\")\n",
    "            print_file_counts()\n",
    "    else:  # If no corrupted files found\n",
    "        print(\"> No Corrupted File Found\")\n",
    "    \n",
    "    \n",
    "# Check dataset: control the presence of duplicate inside the training set\n",
    "def find_out_duplicate(dataset_path, hash_size):\n",
    "    \"\"\"\n",
    "    Find and delete Duplicates inside the training set\n",
    "\n",
    "    :param dataset_path: the path to dataset.\n",
    "    :param hash_size: images will be resized to a matrix with size by given value.\n",
    "    \n",
    "    :return: None\n",
    "    \"\"\"\n",
    "    hashes = {}  # Dictionary to store image hashes\n",
    "    originals = {}  # Dictionary to store original filenames corresponding to hashes\n",
    "    duplicates = []  # List to store duplicate filenames\n",
    "\n",
    "    # Loop through file\n",
    "    for filename in os.listdir(dataset_path):\n",
    "        \n",
    "        # File path\n",
    "        path_to_file = os.path.join(dataset_path, filename)\n",
    "\n",
    "        with Image.open(path_to_file) as image:\n",
    "            # Compute average hash for the image\n",
    "            tmp_hash = imagehash.average_hash(image, hash_size)  \n",
    "\n",
    "            if tmp_hash in hashes:\n",
    "                print(\"- Duplicate [{}] found for Og. Image [{}]\".format(filename, hashes[tmp_hash]))\n",
    "                duplicates.append(filename)  # Append to duplicates list\n",
    "                originals[filename] = hashes[tmp_hash]  # Store original filename corresponding to hash\n",
    "            else:\n",
    "                hashes[tmp_hash] = filename  # Store the hash with filename\n",
    "\n",
    "    if len(duplicates) != 0:  # If duplicates found -> Plot: \"Original vs Duplicate\"\n",
    "        \n",
    "        fig, axs = plt.subplots(len(duplicates), 2, figsize=(10, 5 * len(duplicates)))\n",
    "\n",
    "        for idx, duplicate in enumerate(duplicates):\n",
    "            duplicate_path = os.path.join(dataset_path, duplicate)\n",
    "            original_path = os.path.join(dataset_path, originals[duplicate])\n",
    "\n",
    "            # Load images\n",
    "            duplicate_image = plt.imread(duplicate_path)\n",
    "            original_image = plt.imread(original_path)\n",
    "\n",
    "            # Plot side by side\n",
    "            axs[idx, 0].imshow(original_image)\n",
    "            axs[idx, 0].set_title(\"Original\")\n",
    "            axs[idx, 0].axis(\"off\")\n",
    "\n",
    "            axs[idx, 1].imshow(duplicate_image)\n",
    "            axs[idx, 1].set_title(\"Duplicate\")\n",
    "            axs[idx, 1].axis(\"off\")\n",
    "\n",
    "        plt.tight_layout()  # Adjust layout\n",
    "        \n",
    "        # Save the plot to path\n",
    "        if dataset_path == COVID_PATH:\n",
    "            # COVID duplicate plot path\n",
    "            plot_save_path = os.path.join(PLOT_PATH, \"COVID_duplicate_plot.jpg\") \n",
    "            plt.savefig(plot_save_path, dpi=96)\n",
    "        else:\n",
    "            # non-COVID duplicate plot path\n",
    "            plot_save_path = os.path.join(PLOT_PATH, \"non-COVID_duplicate_plot.jpg\")\n",
    "            plt.savefig(plot_save_path, dpi=96)\n",
    "        \n",
    "        # Display the plot\n",
    "        plt.show() \n",
    "        \n",
    "        # Ask for user confirmation\n",
    "        doc_message = input(\"\\n> Do you want to delete these {} duplicate images? [Y/N]: \".format(len(duplicates)))\n",
    "\n",
    "        if doc_message.upper() == \"Y\": \n",
    "            for duplicate in duplicates:\n",
    "                # Delete duplicate\n",
    "                os.remove(os.path.join(dataset_path, duplicate))\n",
    "                print(\"- {} Deleted Successfully!\".format(duplicate))\n",
    "    else:  # If no duplicates found\n",
    "        print(\"> No duplicate images found.\")\n",
    "\n",
    "\n",
    "# Preprocessing workflow\n",
    "def checking_dataset(dataset_path, covid_path, non_covid_path):\n",
    "    \"\"\"\n",
    "    Preliminary check on dataset:\n",
    "        Calling corruption_filter, find_out_duplicate to analyze and control the dataset.\n",
    "\n",
    "    :param dataset_path: The path to the dataset.\n",
    "    :param covid_path: The path to the covid labeled data.\n",
    "    :param non_covid_path: The path to the non_covid labeled data.\n",
    "    \n",
    "    :return: None\n",
    "    \"\"\"\n",
    "    print(\"\\n> CHECK THE DATASET\")\n",
    "    print(\"\\n> Checking the Number of file before performing Pre-processing Task...\")\n",
    "    \n",
    "    # Print count\n",
    "    print_file_counts()\n",
    "    \n",
    "    # Check for corrupted file\n",
    "    print(\"> Checking for corrupted files...\")\n",
    "    corruption_filter(dataset_path=dataset_path)\n",
    "    \n",
    "    # Check for duplicates in the dataset: COVID/ and non-COVID/\n",
    "    print(\"\\n> Checking duplicates in COVID/...[current num. of file: {}]\"\n",
    "          .format(count_files(directory_path=covid_path)))\n",
    "    find_out_duplicate(dataset_path=covid_path, hash_size=8)\n",
    "    \n",
    "    print(\"\\n> Checking duplicates in non-COVID/...[current num. of file: {}]\"\n",
    "          .format(count_files(directory_path=non_covid_path)))\n",
    "    find_out_duplicate(dataset_path=non_covid_path, hash_size=8)\n",
    "    \n",
    "    print(\"\\n> Final check to confirm the total file count:\")\n",
    "    print_file_counts()\n",
    "    \n",
    "    print(\"> DATASET CHECK COMPLETE!\")"
   ]
  },
  {
   "cell_type": "code",
   "execution_count": 160,
   "id": "30ed1e2ff444e117",
   "metadata": {
    "collapsed": false,
    "ExecuteTime": {
     "end_time": "2024-03-25T11:28:12.942086Z",
     "start_time": "2024-03-25T11:28:03.725743Z"
    }
   },
   "outputs": [
    {
     "name": "stdout",
     "output_type": "stream",
     "text": [
      "\n",
      "> CHECK THE DATASET\n",
      "\n",
      "> Checking the Number of file before performing Pre-processing Task...\n",
      "- Total Number of file: 2430\n",
      "- Number of file in COVID: 1215\n",
      "- Number of file in non-Covid: 1215\n",
      "\n",
      "> Checking for corrupted files...\n",
      "> No Corrupted File Found\n",
      "\n",
      "> Checking duplicates in COVID/...[current num. of file: 1215]\n",
      "> No duplicate images found.\n",
      "\n",
      "> Checking duplicates in non-COVID/...[current num. of file: 1215]\n",
      "> No duplicate images found.\n",
      "\n",
      "> Final check to confirm the total file count:\n",
      "- Total Number of file: 2430\n",
      "- Number of file in COVID: 1215\n",
      "- Number of file in non-Covid: 1215\n",
      "\n",
      "> DATASET CHECK COMPLETE!\n"
     ]
    }
   ],
   "source": [
    "# Execute the Pre-processing Task\n",
    "checking_dataset(dataset_path=DATASET_PATH, covid_path=COVID_PATH, non_covid_path=NON_COVID_PATH)"
   ]
  },
  {
   "cell_type": "markdown",
   "id": "d62d925a0ae0767a",
   "metadata": {
    "collapsed": false
   },
   "source": [
    "# Data Preparation"
   ]
  },
  {
   "cell_type": "code",
   "execution_count": 161,
   "id": "fd7adc165229698a",
   "metadata": {
    "collapsed": false,
    "ExecuteTime": {
     "end_time": "2024-03-25T11:28:12.951522Z",
     "start_time": "2024-03-25T11:28:12.942885Z"
    }
   },
   "outputs": [
    {
     "data": {
      "text/plain": "                                File  Class ID Class Label\n0              COVID/Covid (640).png         0       COVID\n1              COVID/Covid (210).png         0       COVID\n2              COVID/Covid (705).png         0       COVID\n3              COVID/Covid (355).png         0       COVID\n4              COVID/Covid (586).png         0       COVID\n...                              ...       ...         ...\n2425   non-COVID/Non-Covid (364).png         1   non-COVID\n2426  non-COVID/Non-Covid (1052).png         1   non-COVID\n2427  non-COVID/Non-Covid (1117).png         1   non-COVID\n2428   non-COVID/Non-Covid (671).png         1   non-COVID\n2429   non-COVID/Non-Covid (221).png         1   non-COVID\n\n[2430 rows x 3 columns]",
      "text/html": "<div>\n<style scoped>\n    .dataframe tbody tr th:only-of-type {\n        vertical-align: middle;\n    }\n\n    .dataframe tbody tr th {\n        vertical-align: top;\n    }\n\n    .dataframe thead th {\n        text-align: right;\n    }\n</style>\n<table border=\"1\" class=\"dataframe\">\n  <thead>\n    <tr style=\"text-align: right;\">\n      <th></th>\n      <th>File</th>\n      <th>Class ID</th>\n      <th>Class Label</th>\n    </tr>\n  </thead>\n  <tbody>\n    <tr>\n      <th>0</th>\n      <td>COVID/Covid (640).png</td>\n      <td>0</td>\n      <td>COVID</td>\n    </tr>\n    <tr>\n      <th>1</th>\n      <td>COVID/Covid (210).png</td>\n      <td>0</td>\n      <td>COVID</td>\n    </tr>\n    <tr>\n      <th>2</th>\n      <td>COVID/Covid (705).png</td>\n      <td>0</td>\n      <td>COVID</td>\n    </tr>\n    <tr>\n      <th>3</th>\n      <td>COVID/Covid (355).png</td>\n      <td>0</td>\n      <td>COVID</td>\n    </tr>\n    <tr>\n      <th>4</th>\n      <td>COVID/Covid (586).png</td>\n      <td>0</td>\n      <td>COVID</td>\n    </tr>\n    <tr>\n      <th>...</th>\n      <td>...</td>\n      <td>...</td>\n      <td>...</td>\n    </tr>\n    <tr>\n      <th>2425</th>\n      <td>non-COVID/Non-Covid (364).png</td>\n      <td>1</td>\n      <td>non-COVID</td>\n    </tr>\n    <tr>\n      <th>2426</th>\n      <td>non-COVID/Non-Covid (1052).png</td>\n      <td>1</td>\n      <td>non-COVID</td>\n    </tr>\n    <tr>\n      <th>2427</th>\n      <td>non-COVID/Non-Covid (1117).png</td>\n      <td>1</td>\n      <td>non-COVID</td>\n    </tr>\n    <tr>\n      <th>2428</th>\n      <td>non-COVID/Non-Covid (671).png</td>\n      <td>1</td>\n      <td>non-COVID</td>\n    </tr>\n    <tr>\n      <th>2429</th>\n      <td>non-COVID/Non-Covid (221).png</td>\n      <td>1</td>\n      <td>non-COVID</td>\n    </tr>\n  </tbody>\n</table>\n<p>2430 rows × 3 columns</p>\n</div>"
     },
     "execution_count": 161,
     "metadata": {},
     "output_type": "execute_result"
    }
   ],
   "source": [
    "# Initialize an empty list to store data\n",
    "data = []\n",
    "\n",
    "# Iterate through each class in the CLASS_LIST\n",
    "for class_id, class_label in enumerate(CLASS_LIST):\n",
    "    \n",
    "    # Folder path -> archives/COVID or archives/non-COVID\n",
    "    folder_paths = os.path.join(DATASET_PATH, class_label)\n",
    "    \n",
    "    # Iterate through each file in the directory corresponding to the current class\n",
    "    for file in os.listdir(folder_paths):\n",
    "        \n",
    "        # File path -> example. archives/COVID/Covid (1).png\n",
    "        file_path = os.path.join(class_label, file)\n",
    "        # Append file information along with class label to the data list\n",
    "        data.append([file_path, class_id, class_label])\n",
    "\n",
    "# Create a DataFrame using the collected data with appropriate column names\n",
    "df = pd.DataFrame(data=data, columns=[\"File\", \"Class ID\", \"Class Label\"])\n",
    "\n",
    "# Display the dataframe\n",
    "df"
   ]
  },
  {
   "cell_type": "code",
   "execution_count": 162,
   "id": "fcee1772e180429f",
   "metadata": {
    "collapsed": false,
    "ExecuteTime": {
     "end_time": "2024-03-25T11:28:13.101780Z",
     "start_time": "2024-03-25T11:28:12.952356Z"
    }
   },
   "outputs": [
    {
     "data": {
      "text/plain": "<Figure size 1000x600 with 1 Axes>",
      "image/png": "[encoded data removed]"
     },
     "metadata": {},
     "output_type": "display_data"
    }
   ],
   "source": [
    "# Plot the class distribution\n",
    "plt.figure(figsize=(10, 6))\n",
    "plt.title(\"Class Distribution\", fontsize=16, weight=\"bold\")\n",
    "plt.xlabel(\"Class Label\", fontsize=14) \n",
    "plt.ylabel(\"Count\", fontsize=14)\n",
    "df[\"Class Label\"].value_counts().plot(kind=\"bar\", edgecolor=\"black\")\n",
    "\n",
    "# Define colors for each class\n",
    "colors = [\"skyblue\", \"orange\"]\n",
    "\n",
    "# Plot bar chart with different colors for each bar\n",
    "df_counts = df[\"Class Label\"].value_counts()\n",
    "df_counts.plot(kind=\"bar\", edgecolor=\"black\", color=colors)\n",
    "\n",
    "# Add labels to the bars\n",
    "for i, count in enumerate(df[\"Class Label\"].value_counts()):\n",
    "    plt.text(i, count + 10, str(count), ha=\"center\", fontsize=12, weight=\"bold\")\n",
    "\n",
    "# Set X label to horizontal\n",
    "plt.xticks(rotation=0)\n",
    "# Set font weight for x-axis tick labels\n",
    "plt.xticks(range(len(df_counts.index)), [f\"{label}\" for label in df_counts.index], weight=\"bold\")\n",
    "\n",
    "# Save the plot to path\n",
    "plot_path = os.path.join(PLOT_PATH, \"class_distribution_plot.jpg\") \n",
    "plt.savefig(plot_path, dpi=96)\n",
    "\n",
    "# Display the plot\n",
    "plt.show()"
   ]
  },
  {
   "cell_type": "markdown",
   "id": "f8262e09acc9098b",
   "metadata": {
    "collapsed": false
   },
   "source": [
    "This code cell defines several utility functions for handling datasets:\n",
    "\n",
    "1. `load_dataset(dataset_path)`: Loads data into Keras datasets using TensorFlow's `image_dataset_from_directory` utility. It splits the data into training and test datasets with a validation split of 0.2, shuffles the training data, and sets the image size and batch size based on constants.\n",
    "\n",
    "2. `data_normalization(tf_dataset)`: Normalizes the data by rescaling pixel values to the range [0, 1]. It also configures the dataset for performance by prefetching data using TensorFlow's AUTOTUNE mechanism.\n",
    "\n",
    "3. `image_to_array(tf_dataset)`: Converts a TensorFlow dataset object into NumPy arrays. It iterates through the TensorFlow dataset to extract images and labels, appends them to separate lists, and then converts them into NumPy arrays.\n",
    "\n",
    "These functions collectively enable loading, preprocessing, and conversion of image datasets for machine learning tasks."
   ]
  },
  {
   "cell_type": "code",
   "execution_count": 166,
   "id": "569e71e66204c66d",
   "metadata": {
    "collapsed": false,
    "ExecuteTime": {
     "end_time": "2024-03-25T11:28:46.188172Z",
     "start_time": "2024-03-25T11:28:46.182239Z"
    }
   },
   "outputs": [],
   "source": [
    "def load_dataset(dataset_path):\n",
    "    \"\"\"\n",
    "     Load data into Keras datasets.\n",
    "     \n",
    "     Note:\n",
    "        - The function uses TensorFlow's `image_dataset_from_directory` utility to load the datasets.\n",
    "        - Training and Test datasets are split with a `validation_split` of 0.2.\n",
    "        - The datasets are shuffled for training purposes.\n",
    "        - The image size and batch size are determined by constants.\n",
    "\n",
    "    :param dataset_path: The directory path containing data.\n",
    "\n",
    "    :returns: A tuple containing two datasets: Training dataset and Test dataset.\n",
    "    \"\"\"\n",
    "    # Training dataset\n",
    "    print(\"\\n> Training set:\")\n",
    "    training_set = keras.utils.image_dataset_from_directory(\n",
    "        dataset_path,\n",
    "        labels=\"inferred\",\n",
    "        label_mode=\"binary\",\n",
    "        batch_size=BATCH_SIZE,\n",
    "        image_size=IMG_SIZE,\n",
    "        shuffle=True,\n",
    "        seed=123,\n",
    "        validation_split=0.2,\n",
    "        subset=\"training\"\n",
    "    )\n",
    "    \n",
    "    # Test dataset\n",
    "    print(\"\\n> Test set:\")\n",
    "    test_set = keras.utils.image_dataset_from_directory(\n",
    "        dataset_path,\n",
    "        labels=\"inferred\",\n",
    "        label_mode=\"binary\",\n",
    "        batch_size=BATCH_SIZE,\n",
    "        image_size=IMG_SIZE,\n",
    "        shuffle=False,\n",
    "        seed=123,\n",
    "        validation_split=0.2,\n",
    "        subset=\"validation\"   \n",
    "    )\n",
    "    \n",
    "    return training_set, test_set\n",
    "    \n",
    "\n",
    "# Data Normalization\n",
    "def data_normalization(tf_dataset):\n",
    "    \"\"\"\n",
    "    Normalize the data\n",
    "\n",
    "    Note:\n",
    "        - Standardizes the data by rescaling pixel values to the range [0, 1].\n",
    "        - The dataset is configured for performance by prefetching data using TensorFlow's AUTOTUNE mechanism.\n",
    "\n",
    "    :param tf_dataset: tf.data.Dataset, The dataset to be normalized.\n",
    "\n",
    "    :return: tf.Dataset.data object.\n",
    "    \"\"\"\n",
    "    # Standardize the data\n",
    "    normalization_layer = keras.layers.Rescaling(1. / 255)\n",
    "    dataset = tf_dataset.map(lambda x, y: (normalization_layer(x), y))\n",
    "\n",
    "    # Configure the dataset for performance\n",
    "    dataset = dataset.prefetch(buffer_size=tf.data.AUTOTUNE)\n",
    "\n",
    "    return dataset\n",
    "\n",
    "\n",
    "# Convert TensorFlow datasets to NumPy arrays\n",
    "def dataset_to_array(dataset):\n",
    "    \"\"\"\n",
    "    Convert TensorFlow dataset to NumPy arrays.\n",
    "\n",
    "    :param dataset: TensorFlow dataset object.\n",
    "\n",
    "    :return: A tuple containing two NumPy arrays:\n",
    "        - x_array: Input images.\n",
    "        - y_array: Corresponding class labels.\n",
    "    \"\"\"\n",
    "    x_array, y_array = [], []\n",
    "\n",
    "    for image_batch, label_batch in dataset:\n",
    "        for image, label in zip(image_batch.numpy(), label_batch.numpy()):\n",
    "            x_array.append(image)\n",
    "            y_array.append(label)\n",
    "\n",
    "    # Convert lists to NumPy arrays\n",
    "    x_array = np.array(x_array)\n",
    "    y_array = np.array(y_array)\n",
    "\n",
    "    return x_array, y_array\n"
   ]
  },
  {
   "cell_type": "code",
   "execution_count": 171,
   "id": "3bc68570e7c269f8",
   "metadata": {
    "collapsed": false,
    "ExecuteTime": {
     "end_time": "2024-03-25T11:30:49.643994Z",
     "start_time": "2024-03-25T11:30:47.889757Z"
    }
   },
   "outputs": [
    {
     "name": "stdout",
     "output_type": "stream",
     "text": [
      "\n",
      "> Training set:\n",
      "\n",
      "> Test set:\n",
      "\n",
      "> Class Names:\n",
      "- Class 0 = COVID\n",
      "- Class 1 = non-COVID\n"
     ]
    },
    {
     "name": "stderr",
     "output_type": "stream",
     "text": [
      "2024-03-25 12:30:48.914318: W tensorflow/core/framework/local_rendezvous.cc:404] Local rendezvous is aborting with status: OUT_OF_RANGE: End of sequence\n"
     ]
    },
    {
     "name": "stdout",
     "output_type": "stream",
     "text": [
      "\n",
      "> Shape of Training Data:\n",
      "- X_train: (1944, 224, 224, 3)\n",
      "- y_train: (1944, 1)\n",
      "\n",
      "> Shape of Test Data:\n",
      "- X_test: (486, 224, 224, 3)\n",
      "- y_test: (486, 1)\n"
     ]
    },
    {
     "name": "stderr",
     "output_type": "stream",
     "text": [
      "2024-03-25 12:30:49.598291: W tensorflow/core/framework/local_rendezvous.cc:404] Local rendezvous is aborting with status: OUT_OF_RANGE: End of sequence\n"
     ]
    }
   ],
   "source": [
    "# Load the keras dataset\n",
    "training_dataset, test_dataset = load_dataset(DATASET_PATH)\n",
    "\n",
    "# Printing information about the datasets\n",
    "print(\"\\n> Class Names:\"\n",
    "      \"\\n- Class 0 = {}\"\n",
    "      \"\\n- Class 1 = {}\".format(training_dataset.class_names[0], training_dataset.class_names[1]))\n",
    "\n",
    "# Scaling data\n",
    "training_ds = data_normalization(tf_dataset=training_dataset)\n",
    "test_ds = data_normalization(tf_dataset=test_dataset)\n",
    "\n",
    "# Convert scaled datasets to arrays\n",
    "X_train, y_train = dataset_to_array(training_ds)\n",
    "X_test, y_test = dataset_to_array(test_ds)\n",
    "\n",
    "# Print the shapes of the arrays\n",
    "print(\"\\n> Shape of Training Data:\")\n",
    "print(\"- X_train:\", X_train.shape)\n",
    "print(\"- y_train:\", y_train.shape)\n",
    "\n",
    "print(\"\\n> Shape of Test Data:\")\n",
    "print(\"- X_test:\", X_test.shape)\n",
    "print(\"- y_test:\", y_test.shape)\n"
   ]
  }
 ],
 "metadata": {
  "kernelspec": {
   "display_name": "Python 3 (ipykernel)",
   "language": "python",
   "name": "python3"
  },
  "language_info": {
   "codemirror_mode": {
    "name": "ipython",
    "version": 3
   },
   "file_extension": ".py",
   "mimetype": "text/x-python",
   "name": "python",
   "nbconvert_exporter": "python",
   "pygments_lexer": "ipython3",
   "version": "3.12.0"
  }
 },
 "nbformat": 4,
 "nbformat_minor": 5
}
