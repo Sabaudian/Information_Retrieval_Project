{
 "cells": [
  {
   "cell_type": "markdown",
   "source": [
    "# Information Retrieval Project\n",
    "## COVID-19 Search Engine (P12)\n",
    "\n",
    "Content-based image retrieval (CBIR) is a computer vision technique which addresses the problem of searching for digital images in large databases. A content-based approach exploits the contents of an image, such as colors, shapes and textures, differing from its concept-based counterpart, which instead focuses on keywords and tags associated with the image itself.\n",
    "\n",
    "Image retrieval has gained more and more relevance in the medical field, due to the accumulation of extensive collections of scans in hospitals. These images are stored in DICOM format, which must be manually annotated and may require considerable time to process by physicians. The goal of this project is trying to address this problem by considering different approaches for building a content-based medical image retrieval system and comparing their results based on classification metrics and computational time."
   ],
   "metadata": {
    "collapsed": false
   },
   "id": "db3c1946c8dce761"
  },
  {
   "cell_type": "markdown",
   "source": [],
   "metadata": {
    "collapsed": false
   },
   "id": "ebe002562a64b40a"
  },
  {
   "cell_type": "markdown",
   "source": [
    "## Install the requirements"
   ],
   "metadata": {
    "collapsed": false
   },
   "id": "83f7612f7663945"
  },
  {
   "cell_type": "code",
   "outputs": [],
   "source": [
    "!pip install -r requirements.txt"
   ],
   "metadata": {
    "collapsed": false
   },
   "id": "eb03e351d14986a2",
   "execution_count": null
  },
  {
   "cell_type": "markdown",
   "source": [
    "# Define all the import"
   ],
   "metadata": {
    "collapsed": false
   },
   "id": "67677eb828dc5627"
  },
  {
   "cell_type": "code",
   "outputs": [],
   "source": [
    "import os\n",
    "import kaggle\n",
    "import platform"
   ],
   "metadata": {
    "collapsed": false,
    "ExecuteTime": {
     "end_time": "2024-02-23T17:24:35.983186Z",
     "start_time": "2024-02-23T17:24:35.979549Z"
    }
   },
   "id": "ef963128ebd2163f",
   "execution_count": 22
  },
  {
   "cell_type": "markdown",
   "source": [
    "## Version Control"
   ],
   "metadata": {
    "collapsed": false
   },
   "id": "4c281a9d21f536f8"
  },
  {
   "cell_type": "code",
   "execution_count": 23,
   "id": "initial_id",
   "metadata": {
    "collapsed": true,
    "ExecuteTime": {
     "end_time": "2024-02-23T17:24:35.986277Z",
     "start_time": "2024-02-23T17:24:35.982508Z"
    }
   },
   "outputs": [
    {
     "name": "stdout",
     "output_type": "stream",
     "text": [
      "- Python version: 3.12.0\n"
     ]
    }
   ],
   "source": [
    "# Checking Python version\n",
    "print(\"- Python version: {}\".format(platform.python_version()))"
   ]
  },
  {
   "cell_type": "markdown",
   "source": [
    "## Define Useful Constant"
   ],
   "metadata": {
    "collapsed": false
   },
   "id": "466d12a807cbf965"
  },
  {
   "cell_type": "code",
   "outputs": [],
   "source": [
    "# PATHS AND SIMILAR\n",
    "DATASET_PATH = \"archives\"  # Path to dataset folder\n",
    "DATASET_ID = \"plameneduardo/sarscov2-ctscan-dataset\"  # Necessary for download dataset (Kaggle API)"
   ],
   "metadata": {
    "collapsed": false,
    "ExecuteTime": {
     "end_time": "2024-02-23T17:24:35.988647Z",
     "start_time": "2024-02-23T17:24:35.985652Z"
    }
   },
   "id": "1b28b3861eb5f84b",
   "execution_count": 24
  },
  {
   "cell_type": "markdown",
   "source": [
    "## Download the dataset from Kaggle"
   ],
   "metadata": {
    "collapsed": false
   },
   "id": "4d1890303dddf97f"
  },
  {
   "cell_type": "code",
   "outputs": [
    {
     "name": "stdout",
     "output_type": "stream",
     "text": [
      "\n",
      "> Dataset alredy downloaded.\n"
     ]
    }
   ],
   "source": [
    "# Download the dataset if not exist in the workplace\n",
    "if not os.path.exists(DATASET_PATH):\n",
    "    print(\"\\n> Download the dataset from Kaggle...\")\n",
    "    # Download dataset and unzip it\n",
    "    kaggle.api.dataset_download_files(dataset=DATASET_ID, path=DATASET_PATH, quiet=False, unzip=True)\n",
    "else:\n",
    "    print(\"\\n> Dataset alredy downloaded.\")"
   ],
   "metadata": {
    "collapsed": false,
    "ExecuteTime": {
     "end_time": "2024-02-23T17:24:35.991102Z",
     "start_time": "2024-02-23T17:24:35.987922Z"
    }
   },
   "id": "c294b78fcbcece79",
   "execution_count": 25
  }
 ],
 "metadata": {
  "kernelspec": {
   "display_name": "Python 3",
   "language": "python",
   "name": "python3"
  },
  "language_info": {
   "codemirror_mode": {
    "name": "ipython",
    "version": 2
   },
   "file_extension": ".py",
   "mimetype": "text/x-python",
   "name": "python",
   "nbconvert_exporter": "python",
   "pygments_lexer": "ipython2",
   "version": "2.7.6"
  }
 },
 "nbformat": 4,
 "nbformat_minor": 5
}
